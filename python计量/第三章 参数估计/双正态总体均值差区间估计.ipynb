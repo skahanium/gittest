{
 "cells": [
  {
   "cell_type": "markdown",
   "metadata": {},
   "source": [
    "### 两方差已知时两均值差的置信区间"
   ]
  },
  {
   "cell_type": "markdown",
   "metadata": {},
   "source": [
    "为比较两种农作物的产量，选择18块相似的试验田以相同的方法进行种植。其中甲产品8块田，乙产品10块田，双方单位面积产量如下：\n",
    "\n",
    "甲：628, 583, 510, 554, 612, 523, 530, 615\n",
    "\n",
    "乙：535, 433, 398, 470, 567, 480, 498, 560, 503, 426\n",
    "\n",
    "假定每种产品的单位面积产量均服从正态分布，其中甲的方差为2140，乙的方差为3250，求这两个品种平均面积产量差的置信区间。"
   ]
  },
  {
   "cell_type": "code",
   "execution_count": 1,
   "metadata": {},
   "outputs": [],
   "source": [
    "import numpy as np\n",
    "import scipy.stats as ss"
   ]
  },
  {
   "cell_type": "code",
   "execution_count": 2,
   "metadata": {},
   "outputs": [],
   "source": [
    "x1 = np.array([628, 583, 510, 554, 612, 523, 530, 615])\n",
    "y1 = np.array([535, 433, 398, 470, 567, 480, 498, 560, 503, 426])\n",
    "n1 = len(x1); n2 = len(y1)\n",
    "x1_bar = x1.mean()\n",
    "y1_bar = y1.mean()\n",
    "sigmaq1 = 2140; sigmaq2 = 3250; p = 0.025\n",
    "low1 = x1_bar - y1_bar - ss.norm.ppf(q=1-p) * np.sqrt(sigmaq1/n1 + sigmaq2/n2)\n",
    "high1 = x1_bar - y1_bar + ss.norm.ppf(q=1-p) * np.sqrt(sigmaq1/n1 + sigmaq2/n2)"
   ]
  },
  {
   "cell_type": "code",
   "execution_count": 3,
   "metadata": {},
   "outputs": [
    {
     "name": "stdout",
     "output_type": "stream",
     "text": [
      "平均面积产量差的置信区间为：[34.66688380095825,130.08311619904174]\n"
     ]
    }
   ],
   "source": [
    "print(\"平均面积产量差的置信区间为：[\" + f\"{low1}\" + \",\" + f\"{high1}\" + \"]\")"
   ]
  },
  {
   "cell_type": "markdown",
   "metadata": {},
   "source": [
    "在上一题中，如果知晓甲乙双方的方差相同，但并不知道具体数值，求平局面积产量差的置信区间。"
   ]
  },
  {
   "cell_type": "code",
   "execution_count": 4,
   "metadata": {},
   "outputs": [],
   "source": [
    "import numpy as np\n",
    "import scipy.stats as ss"
   ]
  },
  {
   "cell_type": "code",
   "execution_count": 5,
   "metadata": {},
   "outputs": [],
   "source": [
    "x2 = np.array([628, 583, 510, 554, 612, 523, 530, 615])\n",
    "y2 = np.array([535, 433, 398, 470, 567, 480, 498, 560, 503, 426])\n",
    "n11 = 1.0 * len(x1); n22 =1.0 * len(y1)\n",
    "s1 = x2.var(); s2 = y2.var()\n",
    "x2_bar = x2.mean(); y2_bar = y2.mean()\n",
    "p = 0.025\n",
    "sq = ((n11-1)*s1 + (n22-1)*s2) / (n11 - 1 + n22 - 1)"
   ]
  },
  {
   "cell_type": "code",
   "execution_count": 6,
   "metadata": {},
   "outputs": [],
   "source": [
    "low2 = x2_bar - y2_bar - ss.t.ppf(1-p, n11+n22-2) * np.sqrt(sq*(1/n11 + 1/n22))\n",
    "high2 = x2_bar - y2_bar + ss.t.ppf(1-p, n11+n22-2) * np.sqrt(sq*(1/n11 + 1/n22))"
   ]
  },
  {
   "cell_type": "code",
   "execution_count": 7,
   "metadata": {},
   "outputs": [
    {
     "name": "stdout",
     "output_type": "stream",
     "text": [
      "平均面积产量差的置信区间为：[32.42092781838557,132.32907218161444]\n"
     ]
    }
   ],
   "source": [
    "print(\"平均面积产量差的置信区间为：[\" + f\"{low2}\" + \",\" + f\"{high2}\" + \"]\")"
   ]
  }
 ],
 "metadata": {
  "interpreter": {
   "hash": "076917e479747ab26ba9aed4883190c2edb0c76d5b32fc1bf9fb9f02914b4b5d"
  },
  "kernelspec": {
   "display_name": "Python 3.9.1 64-bit",
   "language": "python",
   "name": "python3"
  },
  "language_info": {
   "codemirror_mode": {
    "name": "ipython",
    "version": 3
   },
   "file_extension": ".py",
   "mimetype": "text/x-python",
   "name": "python",
   "nbconvert_exporter": "python",
   "pygments_lexer": "ipython3",
   "version": "3.9.1"
  },
  "orig_nbformat": 4
 },
 "nbformat": 4,
 "nbformat_minor": 2
}
