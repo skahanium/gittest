{
 "cells": [
  {
   "cell_type": "markdown",
   "metadata": {},
   "source": [
    "注：在实际中，均值$\\mu$已知的情况极为罕见，所以只讨论在$\\mu$未知的情况下啊方差$\\sigma^2$的置信区间"
   ]
  },
  {
   "cell_type": "markdown",
   "metadata": {},
   "source": [
    "从某车间加工的同类零件中抽取16件，测得零件的平均长度为12.8cm，方差为0.0023.假设零件长度服从正态分布，试求总体方差及标准差的置信区间（置信度为95%）。"
   ]
  },
  {
   "cell_type": "markdown",
   "metadata": {},
   "source": [
    "已知$n=16, S^2=0.0023, 1-\\alpha0.95$，查表得：\n",
    "$\\mathcal{X}^2_{1-\\alpha/2}(n-1)=6.262; \\mathcal{X}^2_{1+\\alpha/2}(n-1)=27.488$\n",
    "故程序如下："
   ]
  },
  {
   "cell_type": "code",
   "execution_count": 3,
   "metadata": {},
   "outputs": [],
   "source": [
    "import scipy.stats as ss\n",
    "import numpy as np"
   ]
  },
  {
   "cell_type": "code",
   "execution_count": 5,
   "metadata": {},
   "outputs": [],
   "source": [
    "n = 16; sq = 0.0023; p = 0.025\n",
    "low = ((n-1)*sq) / ss.chi2.ppf(1-p, n-1)\n",
    "high = ((n-1)*sq) / ss.chi2.ppf(p, n-1)"
   ]
  },
  {
   "cell_type": "code",
   "execution_count": 6,
   "metadata": {},
   "outputs": [
    {
     "name": "stdout",
     "output_type": "stream",
     "text": [
      "总体方差的置信区间为：[0.0012550751937877684,0.005509300678006194]\n",
      "总标准差的置信区间为：[0.03542704043224283,0.07422466354255972]\n"
     ]
    }
   ],
   "source": [
    "print(\"总体方差的置信区间为：[\" + f\"{low}\" + \",\" + f\"{high}\" + \"]\")\n",
    "print(\"总标准差的置信区间为：[\" + f\"{np.sqrt(low)}\" + \",\" + f\"{np.sqrt(high)}\" + \"]\")"
   ]
  }
 ],
 "metadata": {
  "interpreter": {
   "hash": "076917e479747ab26ba9aed4883190c2edb0c76d5b32fc1bf9fb9f02914b4b5d"
  },
  "kernelspec": {
   "display_name": "Python 3.9.1 64-bit",
   "language": "python",
   "name": "python3"
  },
  "language_info": {
   "codemirror_mode": {
    "name": "ipython",
    "version": 3
   },
   "file_extension": ".py",
   "mimetype": "text/x-python",
   "name": "python",
   "nbconvert_exporter": "python",
   "pygments_lexer": "ipython3",
   "version": "3.9.1"
  },
  "orig_nbformat": 4
 },
 "nbformat": 4,
 "nbformat_minor": 2
}
