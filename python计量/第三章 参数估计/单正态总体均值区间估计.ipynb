{
 "cells": [
  {
   "cell_type": "markdown",
   "metadata": {},
   "source": [
    "### 方差已知时$\\mu$的置信区间"
   ]
  },
  {
   "cell_type": "markdown",
   "metadata": {},
   "source": [
    "某车间生产的滚珠直径$X$服从均值为$\\delta$，方差为0.6的正态分布。现从某天的产品中抽取6个，测得直径如下（单位：mm）：\n",
    "\n",
    "14.6， 15.1， 14.9， 14.8， 15.2， 15.1\n",
    "\n",
    "试求平均直径置信度为95%的置信区间。"
   ]
  },
  {
   "cell_type": "code",
   "execution_count": 1,
   "metadata": {},
   "outputs": [],
   "source": [
    "import numpy as np\n",
    "import scipy.stats as ss"
   ]
  },
  {
   "cell_type": "code",
   "execution_count": 2,
   "metadata": {},
   "outputs": [],
   "source": [
    "n = 6; p = 0.025; sigma = np.sqrt(0.6)\n",
    "x = np.array([14.6, 15.1, 14.9, 14.8, 15.2, 15.1])\n",
    "xbar = x.mean()\n",
    "low = xbar - ss.norm.ppf(q = 1 - p) * (sigma / np.sqrt(n))\n",
    "high = xbar + ss.norm.ppf(q = 1 - p) * (sigma / np.sqrt(n))"
   ]
  },
  {
   "cell_type": "code",
   "execution_count": 3,
   "metadata": {},
   "outputs": [
    {
     "name": "stdout",
     "output_type": "stream",
     "text": [
      "置信区间为[14.330204967695439,15.569795032304564]\n"
     ]
    }
   ],
   "source": [
    "print('置信区间为' + \"[\" +  f\"{low}\" + \",\" + f\"{high}\" + \"]\")"
   ]
  },
  {
   "cell_type": "markdown",
   "metadata": {},
   "source": [
    "某糖厂自动包装机装糖，设各包重量服从均值为$\\mu$，方差为$\\delta^2$的正态分布，某日开工后测得9包重量为（单位：kg）：\n",
    "\n",
    "99.3, 98.7, 100.5, 101.2, 98.3, 99.7, 99.5, 102.1, 100.5\n",
    "\n",
    "试求$\\mu$的置信度为95%的置信区间"
   ]
  },
  {
   "cell_type": "code",
   "execution_count": 4,
   "metadata": {},
   "outputs": [],
   "source": [
    "import numpy as np\n",
    "import scipy.stats as ss"
   ]
  },
  {
   "cell_type": "markdown",
   "metadata": {},
   "source": [
    "置信度$1-\\alpha=0.95$，查表得$t_{\\alpha/2}(n-1)=2.306$。由样本值求得$\\bar x = 99.978, s^2 = 1.47$"
   ]
  },
  {
   "cell_type": "code",
   "execution_count": 5,
   "metadata": {},
   "outputs": [],
   "source": [
    "n = 9; p = 0.025; s = np.sqrt(1.47)\n",
    "y = np.array([99.3, 98.7, 100.5, 101.2, 98.3, 99.7, 99.5, 102.1, 100.5])\n",
    "ybar = y.mean()\n",
    "ylow = ybar - ss.t.ppf(1-p, n-1) * (s/np.sqrt(n))\n",
    "yhigh = ybar + ss.t.ppf(1-p, n-1) * (s/np.sqrt(n))"
   ]
  },
  {
   "cell_type": "code",
   "execution_count": 6,
   "metadata": {},
   "outputs": [
    {
     "name": "stdout",
     "output_type": "stream",
     "text": [
      "置信区间为[99.04581730209804,100.9097382534575]\n"
     ]
    }
   ],
   "source": [
    "print('置信区间为' + \"[\" +  f\"{ylow}\" + \",\" + f\"{yhigh}\" + \"]\")"
   ]
  }
 ],
 "metadata": {
  "interpreter": {
   "hash": "076917e479747ab26ba9aed4883190c2edb0c76d5b32fc1bf9fb9f02914b4b5d"
  },
  "kernelspec": {
   "display_name": "Python 3.9.1 64-bit",
   "language": "python",
   "name": "python3"
  },
  "language_info": {
   "codemirror_mode": {
    "name": "ipython",
    "version": 3
   },
   "file_extension": ".py",
   "mimetype": "text/x-python",
   "name": "python",
   "nbconvert_exporter": "python",
   "pygments_lexer": "ipython3",
   "version": "3.9.1"
  },
  "orig_nbformat": 4
 },
 "nbformat": 4,
 "nbformat_minor": 2
}
