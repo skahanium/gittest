{
 "cells": [
  {
   "cell_type": "markdown",
   "metadata": {},
   "source": [
    "甲乙两台机床分别加工某种轴承，轴承直径分别服从正态分布$N(\\mu_1, \\delta_1^2), N(\\mu_2, \\delta_2^2)$，从各自加工的轴承中分别抽取若干个轴承测其直径，结果如下：\n",
    "\n",
    "甲：20.5, 19.8, 19.7, 20.4, 20.1, 20.0, 19.0, 19.9\n",
    "\n",
    "乙：20.7, 19.8, 19.5, 20.8, 20.4, 19.6, 20.2\n",
    "\n",
    "试求两台机床加工轴承直径的方差比的95%的置信区间。"
   ]
  },
  {
   "cell_type": "code",
   "execution_count": 1,
   "metadata": {},
   "outputs": [],
   "source": [
    "import numpy as np\n",
    "import scipy.stats as ss"
   ]
  },
  {
   "cell_type": "code",
   "execution_count": 2,
   "metadata": {},
   "outputs": [],
   "source": [
    "x = [20.5, 19.8, 19.7, 20.4, 20.1, 20.0, 19.0, 19.9]\n",
    "y = [20.7, 19.8, 19.5, 20.8, 20.4, 19.6, 20.2]\n",
    "sq1 = np.var(x); sq2 = np.var(y)\n",
    "n1 = 8; n2 = 7; p = 0.025\n",
    "low = sq1/sq2 * 1/ss.f.ppf(1-p, n1-1, n2-1)\n",
    "high = sq1/sq2 * 1/ss.f.ppf(p, n1-1, n2-1)"
   ]
  },
  {
   "cell_type": "code",
   "execution_count": 3,
   "metadata": {},
   "outputs": [
    {
     "name": "stdout",
     "output_type": "stream",
     "text": [
      "加工轴承的方差比的置信区间为：[0.1421688673708112,4.144622814076891]\n"
     ]
    }
   ],
   "source": [
    "print(\"加工轴承的方差比的置信区间为：[\" + f\"{low}\" + \",\" + f\"{high}\" + \"]\")"
   ]
  }
 ],
 "metadata": {
  "interpreter": {
   "hash": "076917e479747ab26ba9aed4883190c2edb0c76d5b32fc1bf9fb9f02914b4b5d"
  },
  "kernelspec": {
   "display_name": "Python 3.9.1 64-bit",
   "language": "python",
   "name": "python3"
  },
  "language_info": {
   "codemirror_mode": {
    "name": "ipython",
    "version": 3
   },
   "file_extension": ".py",
   "mimetype": "text/x-python",
   "name": "python",
   "nbconvert_exporter": "python",
   "pygments_lexer": "ipython3",
   "version": "3.9.1"
  },
  "orig_nbformat": 4
 },
 "nbformat": 4,
 "nbformat_minor": 2
}
