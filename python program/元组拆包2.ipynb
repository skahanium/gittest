{
 "cells": [
  {
   "cell_type": "markdown",
   "source": [
    "### 在python中，一个很优雅的写法就是在不借助中间变量的情况下交换两个变量的值"
   ],
   "metadata": {}
  },
  {
   "cell_type": "code",
   "execution_count": 1,
   "source": [
    "a = input('请输入a： ')\n",
    "b = input('请输入b： ')\n",
    "a, b = b, a\n",
    "print(a, b)"
   ],
   "outputs": [
    {
     "output_type": "stream",
     "name": "stdout",
     "text": [
      "20 10\n"
     ]
    }
   ],
   "metadata": {}
  },
  {
   "cell_type": "markdown",
   "source": [
    "### 还可以用*运算符把一个可迭代对象拆开作为函数的参数"
   ],
   "metadata": {}
  },
  {
   "cell_type": "code",
   "execution_count": 18,
   "source": [
    "from add_function import add\n",
    "\n",
    "t = (20, 8)\n",
    "result = add(*t)\n",
    "print(result)"
   ],
   "outputs": [
    {
     "output_type": "stream",
     "name": "stdout",
     "text": [
      "402.8284271247462\n"
     ]
    }
   ],
   "metadata": {}
  },
  {
   "cell_type": "code",
   "execution_count": 26,
   "source": [
    "def favorite_pet(**kw):\n",
    "    values = []\n",
    "    for value in kw.values():\n",
    "        values.append(value)\n",
    "    \n",
    "    print(\"My favorite pet is a \" +\n",
    "          values[1] + ', which is called ' + values[0] + ' by us.')\n",
    "\n",
    "\n",
    "kw = {'name': 'Harry', 'animal_type': 'dog'}\n",
    "favorite_pet(**kw)\n",
    "\n"
   ],
   "outputs": [
    {
     "output_type": "stream",
     "name": "stdout",
     "text": [
      "['Harry', 'dog']\n",
      "My favorite pet is a Harry, which is called dog by us.\n"
     ]
    }
   ],
   "metadata": {}
  }
 ],
 "metadata": {
  "orig_nbformat": 4,
  "language_info": {
   "name": "python"
  }
 },
 "nbformat": 4,
 "nbformat_minor": 2
}