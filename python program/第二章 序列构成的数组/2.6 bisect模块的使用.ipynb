{
 "metadata": {
  "language_info": {
   "codemirror_mode": {
    "name": "ipython",
    "version": 3
   },
   "file_extension": ".py",
   "mimetype": "text/x-python",
   "name": "python",
   "nbconvert_exporter": "python",
   "pygments_lexer": "ipython3",
   "version": "3.9.1"
  },
  "orig_nbformat": 4,
  "kernelspec": {
   "name": "python3",
   "display_name": "Python 3.9.1 64-bit"
  },
  "interpreter": {
   "hash": "076917e479747ab26ba9aed4883190c2edb0c76d5b32fc1bf9fb9f02914b4b5d"
  }
 },
 "nbformat": 4,
 "nbformat_minor": 2,
 "cells": [
  {
   "cell_type": "code",
   "execution_count": 1,
   "metadata": {},
   "outputs": [],
   "source": [
    "import bisect"
   ]
  },
  {
   "cell_type": "code",
   "execution_count": 7,
   "metadata": {},
   "outputs": [
    {
     "output_type": "stream",
     "name": "stdout",
     "text": [
      "5\n[1, 4, 6, 8, 12, 13, 15, 20]\n"
     ]
    }
   ],
   "source": [
    "a = [1,4,6,8,12,15,20]\n",
    "position = bisect.bisect(a,13)\n",
    "print(position)\n",
    " \n",
    "# 用可变序列内置的insert方法插入\n",
    "a.insert(position,13)\n",
    "print(a)"
   ]
  },
  {
   "cell_type": "code",
   "execution_count": 8,
   "metadata": {},
   "outputs": [
    {
     "output_type": "stream",
     "name": "stdout",
     "text": [
      "[1, 4, 6, 8, 12, 13, 15, 20]\n"
     ]
    }
   ],
   "source": [
    "a = [1,4,6,8,12,15,20]\n",
    "bisect.insort(a,13)\n",
    "print(a)"
   ]
  },
  {
   "cell_type": "code",
   "execution_count": 9,
   "metadata": {},
   "outputs": [],
   "source": [
    "import random"
   ]
  },
  {
   "cell_type": "code",
   "execution_count": 31,
   "metadata": {},
   "outputs": [
    {
     "output_type": "stream",
     "name": "stdout",
     "text": [
      "12-> [12]\n 0-> [0, 12]\n 4-> [0, 4, 12]\n 5-> [0, 4, 5, 12]\n 3-> [0, 3, 4, 5, 12]\n 3-> [0, 3, 3, 4, 5, 12]\n 1-> [0, 1, 3, 3, 4, 5, 12]\n"
     ]
    }
   ],
   "source": [
    "SIZE = 7\n",
    "random.seed()\n",
    "my_list = []\n",
    "for i in range(SIZE):\n",
    "    new_item = random.randrange(SIZE*2)\n",
    "    bisect.insort(my_list, new_item)\n",
    "    print('%2d->'%new_item, my_list)"
   ]
  },
  {
   "cell_type": "code",
   "execution_count": null,
   "metadata": {},
   "outputs": [],
   "source": []
  }
 ]
}