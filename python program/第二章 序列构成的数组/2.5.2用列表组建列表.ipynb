{
 "metadata": {
  "language_info": {
   "codemirror_mode": {
    "name": "ipython",
    "version": 3
   },
   "file_extension": ".py",
   "mimetype": "text/x-python",
   "name": "python",
   "nbconvert_exporter": "python",
   "pygments_lexer": "ipython3",
   "version": "3.9.1"
  },
  "orig_nbformat": 4,
  "kernelspec": {
   "name": "python3",
   "display_name": "Python 3.9.1 64-bit"
  },
  "interpreter": {
   "hash": "076917e479747ab26ba9aed4883190c2edb0c76d5b32fc1bf9fb9f02914b4b5d"
  }
 },
 "nbformat": 4,
 "nbformat_minor": 2,
 "cells": [
  {
   "source": [
    "### 利用列表推导建立一个嵌套列表的列表"
   ],
   "cell_type": "markdown",
   "metadata": {}
  },
  {
   "cell_type": "code",
   "execution_count": 2,
   "metadata": {},
   "outputs": [
    {
     "output_type": "execute_result",
     "data": {
      "text/plain": [
       "[['_', '_', '_'], ['_', '_', 'x'], ['_', '_', '_']]"
      ]
     },
     "metadata": {},
     "execution_count": 2
    }
   ],
   "source": [
    "board = [['_'] * 3 for i in range(3)]\n",
    "board[1][2] = 'x'\n",
    "board"
   ]
  },
  {
   "source": [
    "### 另一种方法看上去是个捷径，但实际上和上面的结果并不相同。因为其列表内三个引用都指向了同一个对象，而前一种并不是。"
   ],
   "cell_type": "markdown",
   "metadata": {}
  },
  {
   "cell_type": "code",
   "execution_count": 3,
   "metadata": {},
   "outputs": [
    {
     "output_type": "execute_result",
     "data": {
      "text/plain": [
       "[['_', '_', 'x'], ['_', '_', 'x'], ['_', '_', 'x']]"
      ]
     },
     "metadata": {},
     "execution_count": 3
    }
   ],
   "source": [
    "weird_board = [['_'] * 3] * 3\n",
    "weird_board[1][2] = 'x'\n",
    "weird_board"
   ]
  },
  {
   "source": [
    "### 真正与第一种类似的做法是下面这种"
   ],
   "cell_type": "markdown",
   "metadata": {}
  },
  {
   "cell_type": "code",
   "execution_count": 4,
   "metadata": {},
   "outputs": [
    {
     "output_type": "execute_result",
     "data": {
      "text/plain": [
       "[['_', '_', '_'], ['_', '_', 'x'], ['_', '_', '_']]"
      ]
     },
     "metadata": {},
     "execution_count": 4
    }
   ],
   "source": [
    "board_2 = []\n",
    "for i in range(3):\n",
    "    row = ['_'] * 3\n",
    "    board_2.append(row)\n",
    "\n",
    "board_2[1][2] = 'x'\n",
    "board_2"
   ]
  },
  {
   "source": [
    "### 而与第二种类似的方法如下"
   ],
   "cell_type": "markdown",
   "metadata": {}
  },
  {
   "cell_type": "code",
   "execution_count": 5,
   "metadata": {},
   "outputs": [
    {
     "output_type": "execute_result",
     "data": {
      "text/plain": [
       "[['_', '_', 'x'], ['_', '_', 'x'], ['_', '_', 'x']]"
      ]
     },
     "metadata": {},
     "execution_count": 5
    }
   ],
   "source": [
    "row = ['_'] * 3\n",
    "weird_board2 = []\n",
    "for i in range(3):\n",
    "    weird_board2.append(row)\n",
    "\n",
    "weird_board2[1][2] = 'x'\n",
    "weird_board2"
   ]
  }
 ]
}